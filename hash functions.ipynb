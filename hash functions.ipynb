{
 "cells": [
  {
   "cell_type": "code",
   "execution_count": null,
   "id": "e96548ae",
   "metadata": {},
   "outputs": [],
   "source": [
    "hash_table = [[] for _ in range(10000)]\n",
    "# hashing function\n",
    "def hashing_func(key):\n",
    "    sum=0\n",
    "   \n",
    "        \n",
    "    return sum %len(hash_table)\n",
    "# using hashing function we can insert values into the table \n",
    "def insert(hash_table, key, value):\n",
    "    hash_key = hashing_func(key) % len(hash_table)\n",
    "    key_exists = False\n",
    "    bucket = hash_table[hash_key]\n",
    "    for i, kv in enumerate(bucket):\n",
    "        k, v = kv\n",
    "        if key == k:\n",
    "            key_exists = True\n",
    "            break\n",
    "    if key_exists:\n",
    "        bucket[i] = ((key, value))\n",
    "    else:\n",
    "        bucket.append((key, value))\n",
    "        \n",
    "#searching the table for a book when the         \n",
    "def search(hash_table, key):\n",
    "    hash_key = hash(key) % len(hash_table)\n",
    "    bucket = hash_table[hash_key]\n",
    "    for i, kv in enumerate(bucket):\n",
    "        k, v = kv\n",
    "        if key == k:\n",
    "            return v"
   ]
  }
 ],
 "metadata": {
  "kernelspec": {
   "display_name": "Python 3 (ipykernel)",
   "language": "python",
   "name": "python3"
  },
  "language_info": {
   "codemirror_mode": {
    "name": "ipython",
    "version": 3
   },
   "file_extension": ".py",
   "mimetype": "text/x-python",
   "name": "python",
   "nbconvert_exporter": "python",
   "pygments_lexer": "ipython3",
   "version": "3.10.2"
  }
 },
 "nbformat": 4,
 "nbformat_minor": 5
}
