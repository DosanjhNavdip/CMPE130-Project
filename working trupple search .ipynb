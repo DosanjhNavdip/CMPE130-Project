{
 "cells": [
  {
   "cell_type": "code",
   "execution_count": 177,
   "id": "54cac85e",
   "metadata": {},
   "outputs": [
    {
     "name": "stdout",
     "output_type": "stream",
     "text": [
      "[('Harry Potter and the Half-Blood Prince (Harry Potter  #6)', 'J.K. Rowling', '9.78075E+12'), ('Harry Potter and the Prisoner of Azkaban (Harry Potter  #3)', 'J.K. Rowling', '9.78075E+12'), ('Harry Potter Collection (Harry Potter  #1-6)', 'J.K. Rowling', '9.78044E+12'), ('Harry Potter Schoolbooks Box Set: Two Classic Books from the Library of Hogwarts School of Witchcraft and Wizardry', 'J.K. Rowling', '9.78044E+12'), ('Harry Potter Y La Piedra Filosofal (Harry Potter  #1)', 'J.K. Rowling', '9.78061E+12'), ('Harry Potter y la Orden del Fénix (Harry Potter  #5)', 'J.K. Rowling', '9.78848E+12'), ('Harry Potter und die Kammer des Schreckens (Harry Potter  #2)', 'J.K. Rowling', '9.78355E+12'), ('Harry Potter und der Gefangene von Askaban (Harry Potter  #3)', 'J.K. Rowling', '9.78355E+12'), (\"Harry Potter and the Philosopher's Stone (Harry Potter  #1)\", 'J.K. Rowling', '9.78158E+12'), ('Harry Potter and the Goblet of Fire (Harry Potter  #4)', 'J.K. Rowling', '9.78075E+12')]\n",
      "[('J.K. Rowling/Mary GrandPré', \"Harry Potter and the Sorcerer's Stone (Harry Potter  #1)\", '9.78079E+12')]\n",
      "[]\n"
     ]
    }
   ],
   "source": [
    "# first part\n",
    "\n",
    "#testing nested creation of dictionaries\n",
    "\n",
    "import csv #to open csv file\n",
    "import json #to output data clearly\n",
    "import time #time library\n",
    "import timeit\n",
    "import operator\n",
    "data_dict2 = {}\n",
    "data_dict3 = {}\n",
    "data_dict4 = {}\n",
    "array = [0,1,2,5] #array for selecting variables from file\n",
    "#0 is book id - thinking about removing after finished\n",
    "#1 is title\n",
    "#2 is author - note that multiple authors are seperated with a /\n",
    "#5 is isbn-13\n",
    "#any of the below variables can be selected to add into the database for more work\n",
    "#not included 3-average ratings, 4-isbn-10, 6-lang, 7-pages, 8-ratings count, 9-text reviews, 10-publication date, 11-publisher\n",
    "\n",
    "index = 0\n",
    "with open(\"booksdatabase.csv\", 'r', encoding=\"utf-8\") as fin:\n",
    "    csvreader = csv.reader(fin, delimiter=\",\")\n",
    "    header = []\n",
    "\n",
    "    for row in csvreader:\n",
    "        if index == 0:\n",
    "            header = row\n",
    "            index += 1\n",
    "            continue\n",
    "        #Create dict of book with info of headers\n",
    "        data_dict2[row[0]] = {'title':row[1] ,'author':row[2],'isbn-13':row[5]}\n",
    "data_dict1 = {}        \n",
    "for x in range(11128):\n",
    "    if x == 0:\n",
    "        continue\n",
    "    numStr = str(x)\n",
    "    data_dict1[data_dict2[numStr][\"title\"]] =(data_dict2[numStr][\"author\"],data_dict2[numStr][\"isbn-13\"])\n",
    "    data_dict3[data_dict2[numStr][\"author\"]] =(data_dict2[numStr][\"title\"],data_dict2[numStr][\"isbn-13\"])\n",
    "    data_dict4[data_dict2[numStr][\"isbn-13\"]] =(data_dict2[numStr][\"title\"],data_dict2[numStr][\"author\"])\n",
    "def getKeysByValue(dictOfElements, searchkey):\n",
    "    listOfKeys = []\n",
    "    listOfItems = dictOfElements.items()\n",
    "    for item  in listOfItems:\n",
    "        if searchkey in item[1]:\n",
    "            listOfKeys.append((item[0], item[1][0], item[1][1]))\n",
    "    return  listOfKeys\n",
    "\n",
    "print(getKeysByValue(data_dict1, \"J.K. Rowling\"))\n",
    "print(getKeysByValue(data_dict3, \"Harry Potter and the Sorcerer's Stone (Harry Potter  #1)\"))               \n",
    "print(getKeysByValue(data_dict4, '9.78079E+12'))  "
   ]
  },
  {
   "cell_type": "code",
   "execution_count": null,
   "id": "e91407e1",
   "metadata": {},
   "outputs": [],
   "source": []
  }
 ],
 "metadata": {
  "kernelspec": {
   "display_name": "Python 3 (ipykernel)",
   "language": "python",
   "name": "python3"
  },
  "language_info": {
   "codemirror_mode": {
    "name": "ipython",
    "version": 3
   },
   "file_extension": ".py",
   "mimetype": "text/x-python",
   "name": "python",
   "nbconvert_exporter": "python",
   "pygments_lexer": "ipython3",
   "version": "3.10.2"
  }
 },
 "nbformat": 4,
 "nbformat_minor": 5
}
